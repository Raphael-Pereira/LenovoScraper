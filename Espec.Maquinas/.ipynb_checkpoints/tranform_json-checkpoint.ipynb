{
 "cells": [
  {
   "cell_type": "code",
   "execution_count": 5,
   "id": "31213976-4f29-4f61-99fa-c7da3efe0c66",
   "metadata": {},
   "outputs": [],
   "source": [
    "import pandas as pd\n",
    "\n",
    "# Carrega o arquivo Excel com todas as planilhas\n",
    "arquivo_excel = pd.read_excel('maquinas.xlsx', sheet_name=None)\n",
    "\n",
    "# Converte cada planilha em um dicionário\n",
    "json_final = {}\n",
    "for nome_sheet, df in arquivo_excel.items():\n",
    "    json_final[nome_sheet] = df.to_dict(orient='records')\n",
    "\n",
    "\n"
   ]
  },
  {
   "cell_type": "code",
   "execution_count": null,
   "id": "2b3431a4-9655-4a7b-9a6c-09ca0dbce4c5",
   "metadata": {},
   "outputs": [],
   "source": [
    "# Salva em um arquivo JSON\n",
    "import json\n",
    "with open('saida.json', 'w', encoding='utf-8') as f:\n",
    "    json.dump(json_final, f, ensure_ascii=False, indent=2)"
   ]
  },
  {
   "cell_type": "code",
   "execution_count": null,
   "id": "cebfd147-0371-4f6b-87ba-aa7acf3e81bf",
   "metadata": {},
   "outputs": [],
   "source": []
  },
  {
   "cell_type": "code",
   "execution_count": null,
   "id": "46550f10-e3ba-4da7-9a6c-5117c2bc43e1",
   "metadata": {},
   "outputs": [],
   "source": []
  },
  {
   "cell_type": "code",
   "execution_count": null,
   "id": "d0277d9c-1b27-427d-ba71-727af08cb934",
   "metadata": {},
   "outputs": [],
   "source": []
  },
  {
   "cell_type": "code",
   "execution_count": null,
   "id": "20a8017d-40ed-4526-b41e-66cb3fa1a9a7",
   "metadata": {},
   "outputs": [],
   "source": []
  }
 ],
 "metadata": {
  "kernelspec": {
   "display_name": "Python 3 (ipykernel)",
   "language": "python",
   "name": "python3"
  },
  "language_info": {
   "codemirror_mode": {
    "name": "ipython",
    "version": 3
   },
   "file_extension": ".py",
   "mimetype": "text/x-python",
   "name": "python",
   "nbconvert_exporter": "python",
   "pygments_lexer": "ipython3",
   "version": "3.9.13"
  }
 },
 "nbformat": 4,
 "nbformat_minor": 5
}
